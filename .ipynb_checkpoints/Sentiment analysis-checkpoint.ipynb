{
 "cells": [
  {
   "cell_type": "markdown",
   "metadata": {},
   "source": [
    "<h1><center>Machine Learning Project"
   ]
  },
  {
   "cell_type": "code",
   "execution_count": 5,
   "metadata": {},
   "outputs": [],
   "source": [
    "import pandas as pd\n",
    "import numpy as np"
   ]
  },
  {
   "cell_type": "markdown",
   "metadata": {},
   "source": [
    "<h3>Loading the data"
   ]
  },
  {
   "cell_type": "markdown",
   "metadata": {},
   "source": [
    "Data obtained from kaggle.<br>\n",
    "link to the dataset = \"https://www.kaggle.com/arkhoshghalb/twitter-sentiment-analysis-hatred-speech\""
   ]
  },
  {
   "cell_type": "code",
   "execution_count": 81,
   "metadata": {},
   "outputs": [],
   "source": [
    "data = pd.read_csv('train.csv')"
   ]
  },
  {
   "cell_type": "code",
   "execution_count": 82,
   "metadata": {},
   "outputs": [
    {
     "data": {
      "text/html": [
       "<div>\n",
       "<style scoped>\n",
       "    .dataframe tbody tr th:only-of-type {\n",
       "        vertical-align: middle;\n",
       "    }\n",
       "\n",
       "    .dataframe tbody tr th {\n",
       "        vertical-align: top;\n",
       "    }\n",
       "\n",
       "    .dataframe thead th {\n",
       "        text-align: right;\n",
       "    }\n",
       "</style>\n",
       "<table border=\"1\" class=\"dataframe\">\n",
       "  <thead>\n",
       "    <tr style=\"text-align: right;\">\n",
       "      <th></th>\n",
       "      <th>id</th>\n",
       "      <th>label</th>\n",
       "      <th>tweet</th>\n",
       "    </tr>\n",
       "  </thead>\n",
       "  <tbody>\n",
       "    <tr>\n",
       "      <th>0</th>\n",
       "      <td>1</td>\n",
       "      <td>0</td>\n",
       "      <td>@user when a father is dysfunctional and is s...</td>\n",
       "    </tr>\n",
       "    <tr>\n",
       "      <th>1</th>\n",
       "      <td>2</td>\n",
       "      <td>0</td>\n",
       "      <td>@user @user thanks for #lyft credit i can't us...</td>\n",
       "    </tr>\n",
       "    <tr>\n",
       "      <th>2</th>\n",
       "      <td>3</td>\n",
       "      <td>0</td>\n",
       "      <td>bihday your majesty</td>\n",
       "    </tr>\n",
       "    <tr>\n",
       "      <th>3</th>\n",
       "      <td>4</td>\n",
       "      <td>0</td>\n",
       "      <td>#model   i love u take with u all the time in ...</td>\n",
       "    </tr>\n",
       "    <tr>\n",
       "      <th>4</th>\n",
       "      <td>5</td>\n",
       "      <td>0</td>\n",
       "      <td>factsguide: society now    #motivation</td>\n",
       "    </tr>\n",
       "  </tbody>\n",
       "</table>\n",
       "</div>"
      ],
      "text/plain": [
       "   id  label                                              tweet\n",
       "0   1      0   @user when a father is dysfunctional and is s...\n",
       "1   2      0  @user @user thanks for #lyft credit i can't us...\n",
       "2   3      0                                bihday your majesty\n",
       "3   4      0  #model   i love u take with u all the time in ...\n",
       "4   5      0             factsguide: society now    #motivation"
      ]
     },
     "execution_count": 82,
     "metadata": {},
     "output_type": "execute_result"
    }
   ],
   "source": [
    "data.head()"
   ]
  },
  {
   "cell_type": "code",
   "execution_count": 83,
   "metadata": {},
   "outputs": [
    {
     "data": {
      "text/plain": [
       "array([0, 1], dtype=int64)"
      ]
     },
     "execution_count": 83,
     "metadata": {},
     "output_type": "execute_result"
    }
   ],
   "source": [
    "data.label.unique()"
   ]
  },
  {
   "cell_type": "markdown",
   "metadata": {},
   "source": [
    "<h3>Cleaning the data"
   ]
  },
  {
   "cell_type": "code",
   "execution_count": 84,
   "metadata": {},
   "outputs": [
    {
     "data": {
      "text/plain": [
       "0"
      ]
     },
     "execution_count": 84,
     "metadata": {},
     "output_type": "execute_result"
    }
   ],
   "source": [
    "data.isnull().values.sum()"
   ]
  },
  {
   "cell_type": "code",
   "execution_count": 85,
   "metadata": {},
   "outputs": [
    {
     "data": {
      "text/html": [
       "<div>\n",
       "<style scoped>\n",
       "    .dataframe tbody tr th:only-of-type {\n",
       "        vertical-align: middle;\n",
       "    }\n",
       "\n",
       "    .dataframe tbody tr th {\n",
       "        vertical-align: top;\n",
       "    }\n",
       "\n",
       "    .dataframe thead th {\n",
       "        text-align: right;\n",
       "    }\n",
       "</style>\n",
       "<table border=\"1\" class=\"dataframe\">\n",
       "  <thead>\n",
       "    <tr style=\"text-align: right;\">\n",
       "      <th></th>\n",
       "      <th>id</th>\n",
       "      <th>label</th>\n",
       "      <th>tweet</th>\n",
       "    </tr>\n",
       "  </thead>\n",
       "  <tbody>\n",
       "    <tr>\n",
       "      <th>0</th>\n",
       "      <td>1</td>\n",
       "      <td>0</td>\n",
       "      <td>@user when a father is dysfunctional and is s...</td>\n",
       "    </tr>\n",
       "    <tr>\n",
       "      <th>1</th>\n",
       "      <td>2</td>\n",
       "      <td>0</td>\n",
       "      <td>@user @user thanks for #lyft credit i can't us...</td>\n",
       "    </tr>\n",
       "    <tr>\n",
       "      <th>2</th>\n",
       "      <td>3</td>\n",
       "      <td>0</td>\n",
       "      <td>bihday your majesty</td>\n",
       "    </tr>\n",
       "    <tr>\n",
       "      <th>3</th>\n",
       "      <td>4</td>\n",
       "      <td>0</td>\n",
       "      <td>#model   i love u take with u all the time in ...</td>\n",
       "    </tr>\n",
       "    <tr>\n",
       "      <th>4</th>\n",
       "      <td>5</td>\n",
       "      <td>0</td>\n",
       "      <td>factsguide: society now    #motivation</td>\n",
       "    </tr>\n",
       "  </tbody>\n",
       "</table>\n",
       "</div>"
      ],
      "text/plain": [
       "   id  label                                              tweet\n",
       "0   1      0   @user when a father is dysfunctional and is s...\n",
       "1   2      0  @user @user thanks for #lyft credit i can't us...\n",
       "2   3      0                                bihday your majesty\n",
       "3   4      0  #model   i love u take with u all the time in ...\n",
       "4   5      0             factsguide: society now    #motivation"
      ]
     },
     "execution_count": 85,
     "metadata": {},
     "output_type": "execute_result"
    }
   ],
   "source": [
    "data.head()"
   ]
  },
  {
   "cell_type": "markdown",
   "metadata": {},
   "source": [
    "<h3>NLP"
   ]
  },
  {
   "cell_type": "code",
   "execution_count": 36,
   "metadata": {},
   "outputs": [],
   "source": [
    "from sklearn.model_selection import train_test_split"
   ]
  },
  {
   "cell_type": "code",
   "execution_count": 93,
   "metadata": {},
   "outputs": [],
   "source": [
    "x_train, x_test, y_train, y_test = train_test_split(data['tweet'],data['label'].values,random_state=42)"
   ]
  },
  {
   "cell_type": "code",
   "execution_count": 100,
   "metadata": {},
   "outputs": [],
   "source": [
    "import tensorflow as tf\n",
    "from tensorflow.python.keras.preprocessing.text import Tokenizer\n",
    "from tensorflow.python.keras.preprocessing.sequence import pad_sequences\n",
    "from tensorflow.python.keras.layers import Input, Dense, GlobalMaxPooling1D\n",
    "from tensorflow.python.keras.layers import LSTM, Embedding\n",
    "from tensorflow.python.keras.models import Model"
   ]
  },
  {
   "cell_type": "code",
   "execution_count": 101,
   "metadata": {},
   "outputs": [],
   "source": [
    "MAX_VOCAB_SIZE = 20000\n",
    "tokenizer = Tokenizer(num_words = MAX_VOCAB_SIZE)\n",
    "tokenizer.fit_on_texts(x_train)\n",
    "sequences_train = tokenizer.texts_to_sequences(x_train)\n",
    "sequences_test = tokenizer.texts_to_sequences(x_test)"
   ]
  },
  {
   "cell_type": "code",
   "execution_count": 102,
   "metadata": {},
   "outputs": [
    {
     "name": "stdout",
     "output_type": "stream",
     "text": [
      "Found 38043 unique tokens\n"
     ]
    }
   ],
   "source": [
    "word_id = tokenizer.word_index\n",
    "V = len(word_id)\n",
    "print(\"Found\",V,'unique tokens')"
   ]
  },
  {
   "cell_type": "code",
   "execution_count": 103,
   "metadata": {},
   "outputs": [
    {
     "name": "stdout",
     "output_type": "stream",
     "text": [
      "Shape of train tensor :- (23971, 35)\n"
     ]
    }
   ],
   "source": [
    "train = pad_sequences(sequences_train)\n",
    "print(\"Shape of train tensor :-\",train.shape)\n",
    "T = train.shape[1]"
   ]
  },
  {
   "cell_type": "code",
   "execution_count": 104,
   "metadata": {},
   "outputs": [
    {
     "name": "stdout",
     "output_type": "stream",
     "text": [
      "Shape of train tensor :- (7991, 35)\n"
     ]
    }
   ],
   "source": [
    "test = pad_sequences(sequences_test,maxlen=T)\n",
    "print(\"Shape of train tensor :-\",test.shape)"
   ]
  },
  {
   "cell_type": "code",
   "execution_count": 105,
   "metadata": {},
   "outputs": [],
   "source": [
    "#training RNN on sentiment analysis\n",
    "D = 20 #dimensions\n",
    "M = 15 # no of hidden layers\n",
    "\n",
    "i = Input(shape = (T,))\n",
    "x = Embedding(V+1,D)(i)\n",
    "x = LSTM(M, return_sequences = True)(x)\n",
    "x = GlobalMaxPooling1D()(x)\n",
    "x = Dense(1,activation='sigmoid')(x)\n",
    "\n",
    "model = Model(i,x)"
   ]
  },
  {
   "cell_type": "code",
   "execution_count": 106,
   "metadata": {},
   "outputs": [
    {
     "name": "stdout",
     "output_type": "stream",
     "text": [
      "Train on 23971 samples, validate on 7991 samples\n",
      "Epoch 1/10\n",
      "23971/23971 [==============================] - 46s 2ms/sample - loss: 0.2702 - acc: 0.9296 - val_loss: 0.2142 - val_acc: 0.9300\n",
      "Epoch 2/10\n",
      "23971/23971 [==============================] - 45s 2ms/sample - loss: 0.1498 - acc: 0.9435 - val_loss: 0.1395 - val_acc: 0.9528\n",
      "Epoch 3/10\n",
      "23971/23971 [==============================] - 46s 2ms/sample - loss: 0.0780 - acc: 0.9754 - val_loss: 0.1272 - val_acc: 0.9581\n",
      "Epoch 4/10\n",
      "23971/23971 [==============================] - 46s 2ms/sample - loss: 0.0480 - acc: 0.9860 - val_loss: 0.1385 - val_acc: 0.9586\n",
      "Epoch 5/10\n",
      "23971/23971 [==============================] - 47s 2ms/sample - loss: 0.0330 - acc: 0.9902 - val_loss: 0.1395 - val_acc: 0.9587\n",
      "Epoch 6/10\n",
      "23971/23971 [==============================] - 45s 2ms/sample - loss: 0.0230 - acc: 0.9938 - val_loss: 0.1569 - val_acc: 0.9590\n",
      "Epoch 7/10\n",
      "23971/23971 [==============================] - 46s 2ms/sample - loss: 0.0166 - acc: 0.9957 - val_loss: 0.1727 - val_acc: 0.9587\n",
      "Epoch 8/10\n",
      "23971/23971 [==============================] - 45s 2ms/sample - loss: 0.0139 - acc: 0.9965 - val_loss: 0.1879 - val_acc: 0.9565\n",
      "Epoch 9/10\n",
      "23971/23971 [==============================] - 45s 2ms/sample - loss: 0.0118 - acc: 0.9970 - val_loss: 0.1953 - val_acc: 0.9553\n",
      "Epoch 10/10\n",
      "23971/23971 [==============================] - 46s 2ms/sample - loss: 0.0108 - acc: 0.9975 - val_loss: 0.2001 - val_acc: 0.9567\n"
     ]
    }
   ],
   "source": [
    "model.compile(loss='binary_crossentropy',optimizer='adam',metrics=['accuracy'])\n",
    "r = model.fit(train,y_train,epochs=10,validation_data=(test,y_test))"
   ]
  },
  {
   "cell_type": "code",
   "execution_count": 107,
   "metadata": {},
   "outputs": [],
   "source": [
    "import matplotlib.pyplot as plt\n",
    "%matplotlib inline"
   ]
  },
  {
   "cell_type": "code",
   "execution_count": 110,
   "metadata": {},
   "outputs": [
    {
     "data": {
      "text/plain": [
       "<matplotlib.legend.Legend at 0x216bc162940>"
      ]
     },
     "execution_count": 110,
     "metadata": {},
     "output_type": "execute_result"
    },
    {
     "data": {
      "image/png": "[encoded data removed]",
      "text/plain": [
       "<Figure size 432x288 with 1 Axes>"
      ]
     },
     "metadata": {
      "needs_background": "light"
     },
     "output_type": "display_data"
    }
   ],
   "source": [
    "plt.plot(r.history['loss'],label='loss')\n",
    "plt.plot(r.history['val_loss'],label='val_loss')\n",
    "plt.legend()"
   ]
  },
  {
   "cell_type": "code",
   "execution_count": 114,
   "metadata": {},
   "outputs": [
    {
     "data": {
      "text/plain": [
       "<matplotlib.legend.Legend at 0x216ca512fd0>"
      ]
     },
     "execution_count": 114,
     "metadata": {},
     "output_type": "execute_result"
    },
    {
     "data": {
      "image/png": "[encoded data removed]",
      "text/plain": [
       "<Figure size 432x288 with 1 Axes>"
      ]
     },
     "metadata": {
      "needs_background": "light"
     },
     "output_type": "display_data"
    }
   ],
   "source": [
    "plt.plot(r.history['acc'],label='accuracy')\n",
    "plt.plot(r.history['val_acc'],label='val_accuracy')\n",
    "plt.legend()"
   ]
  },
  {
   "cell_type": "markdown",
   "metadata": {},
   "source": [
    "<h3> Performing sentimental analysis on data from websites to classify them as negative or positive news."
   ]
  },
  {
   "cell_type": "code",
   "execution_count": 132,
   "metadata": {},
   "outputs": [],
   "source": [
    "from bs4 import BeautifulSoup\n",
    "import requests"
   ]
  },
  {
   "cell_type": "code",
   "execution_count": 197,
   "metadata": {},
   "outputs": [],
   "source": [
    "def process_texts_sequence(data):\n",
    "    return pad_sequences(tokenizer.texts_to_sequences(x),maxlen=T)"
   ]
  },
  {
   "cell_type": "code",
   "execution_count": 227,
   "metadata": {},
   "outputs": [],
   "source": [
    "def classify(classes):\n",
    "    num_of_negative_news = len(classes[classes == 1])\n",
    "    total_num = len(classes)\n",
    "    num_of_positive_news = total_num - num_of_negative_news\n",
    "    print('Number of positive news =',num_of_positive_news)\n",
    "    print('Number of negative news =',num_of_negative_news)\n",
    "    print('Percentage of positive news =',(num_of_positive_news / total_num) * 100)\n",
    "    print('Percentage of negative news =',(num_of_negative_news / total_num) * 100)"
   ]
  },
  {
   "cell_type": "markdown",
   "metadata": {},
   "source": [
    "<h4>NDTV"
   ]
  },
  {
   "cell_type": "code",
   "execution_count": 252,
   "metadata": {},
   "outputs": [],
   "source": [
    "source = requests.get('https://www.ndtv.com/latest?pfrom=home-mainnavgation').text\n",
    "soup = BeautifulSoup(source,'lxml')"
   ]
  },
  {
   "cell_type": "code",
   "execution_count": 253,
   "metadata": {},
   "outputs": [],
   "source": [
    "match = soup.find('div',class_='new_storylising').find('ul')\n",
    "x = []\n",
    "for i in match.find_all('li'):\n",
    "    try:\n",
    "        match_2 = i.find('div',{'class':\"new_storylising_img\"})\n",
    "        x.append(match_2.a['title'])\n",
    "    except:\n",
    "        pass"
   ]
  },
  {
   "cell_type": "code",
   "execution_count": 254,
   "metadata": {},
   "outputs": [
    {
     "name": "stdout",
     "output_type": "stream",
     "text": [
      "['Rajasthan Royals vs Delhi Capitals Live Score, Over 6 to 10 Latest Cricket Score, Updates', 'Sony ZV-1 Review', 'World Mental Health Day 2020: How To Spot Depression In Others? Expert Shares Tips', 'Rajasthan Royals vs Delhi Capitals Live Score, Over 1 to 5 Latest Cricket Score, Updates', \"Women's T20 Challenge: Cricketers Asked To Assemble On October 13, Lack Of Preparation Time A Concern\", 'Masters In Tamil Can Also Get You Seat In Archaeology, Tamil Nadu Chief Minister Palaniswami Thanks PM Modi', '\"You\\'ve Killed It\": Akshay Kumar\\'s <I>Laxmmi Bomb</i> Trailer Gets A Whole Lot Of Love From Celebs', 'Actress Puja Banerjee And Kunal Verma Welcome Baby Boy', 'Production-Spec Nissan Magnite Subcompact SUV Global Unveil Date Announced', 'India Gets 2nd Set Of Swiss Bank Account Details To Help Curb Black Money', 'Assam Congress MLA Rajdeep Gowala Expelled From Party For 6 Years', 'Flipkart, Amazon Have Excellent iPhone 11, Galaxy S20+ Sale Offers, but Will They Have Enough Stock?', 'HDIL Promoters Wadhawans Charged For Rs 200-Crore Yes Bank Fraud', \"Nirav Modi's Custody Extended For Next Extradition Hearing On November 3\", 'Pakistan Bans TikTok Over \"Immoral\" Content']\n"
     ]
    }
   ],
   "source": [
    "print(x)"
   ]
  },
  {
   "cell_type": "code",
   "execution_count": 255,
   "metadata": {},
   "outputs": [
    {
     "name": "stdout",
     "output_type": "stream",
     "text": [
      "[[6.4432621e-05]\n",
      " [1.9586712e-02]\n",
      " [6.4909458e-05]\n",
      " [6.4492226e-05]\n",
      " [2.2721291e-04]\n",
      " [9.0005994e-04]\n",
      " [1.2156367e-04]\n",
      " [7.2747469e-05]\n",
      " [1.3020635e-04]\n",
      " [7.4684620e-05]\n",
      " [1.1568874e-02]\n",
      " [7.7098608e-05]\n",
      " [9.3979063e-05]\n",
      " [8.4097985e-05]\n",
      " [1.8685226e-03]]\n"
     ]
    }
   ],
   "source": [
    "x = process_texts_sequence(x)\n",
    "p = model.predict(x)\n",
    "print(p)#output of sigmoid functions, intrepreted as probabilities"
   ]
  },
  {
   "cell_type": "code",
   "execution_count": 256,
   "metadata": {},
   "outputs": [
    {
     "name": "stdout",
     "output_type": "stream",
     "text": [
      "[0. 0. 0. 0. 0. 0. 0. 0. 0. 0. 0. 0. 0. 0. 0.]\n"
     ]
    }
   ],
   "source": [
    "y = np.round(p).flatten()\n",
    "print(y)#printing the classes"
   ]
  },
  {
   "cell_type": "code",
   "execution_count": 257,
   "metadata": {},
   "outputs": [
    {
     "name": "stdout",
     "output_type": "stream",
     "text": [
      "Number of positive news = 15\n",
      "Number of negative news = 0\n",
      "Percentage of positive news = 100.0\n",
      "Percentage of negative news = 0.0\n"
     ]
    }
   ],
   "source": [
    "classify(y)"
   ]
  },
  {
   "cell_type": "markdown",
   "metadata": {},
   "source": [
    "<h4>Times of India"
   ]
  },
  {
   "cell_type": "code",
   "execution_count": 258,
   "metadata": {},
   "outputs": [],
   "source": [
    "source = requests.get('https://timesofindia.indiatimes.com/briefs').text\n",
    "soup = BeautifulSoup(source,'lxml')"
   ]
  },
  {
   "cell_type": "code",
   "execution_count": 259,
   "metadata": {},
   "outputs": [],
   "source": [
    "x = []\n",
    "for i in soup.find_all('div',class_='brief_box'):\n",
    "    try:\n",
    "        x.append(i.h2.text)\n",
    "    except:\n",
    "        pass"
   ]
  },
  {
   "cell_type": "code",
   "execution_count": 260,
   "metadata": {},
   "outputs": [
    {
     "name": "stdout",
     "output_type": "stream",
     "text": [
      "[\"Coronavirus broke out in world's various parts last year: China\", 'TRP manipulation scam: Mumbai police summons Republic TV CFO', 'India successfully test fires anti-radiation missile Rudram-1', 'India gets second set of Swiss bank account details', \"Pakistan to block social media app TikTok for 'immoral' content\", 'Indian Muslims most content in world: RSS chief Bhagwat', 'NIA files chargesheet against eight people in Bhima Koregaon case', 'World Food Programme awarded Nobel Peace Prize 2020', \"Temple priest burnt alive over land dispute in Rajasthan's Karauli\", 'Nashik: HAL employee held for supplying secret information to ISI', \"Some CSK batsmen think it's a government job:Virender Sehwag\", 'Prepare for 15,000 daily Covid cases in Delhi this winter: Panel', 'No vindictive action by Mumbai cops in busting TRP scam: Raut', 'Rahul takes dig at PM on wind turbines suggestion, BJP hits back', 'TMC vs BJP: How four spots in Kolkata, Howrah turned flashpoints', 'ONGC sees Rs 6,000-7,000 crore loss on gas business', 'Repo rate unchanged at 4%; GDP to contract by 9.5%: RBI', 'HC explains why narco section slapped on Rhea does not hold', 'Covid-19: Active cases in India dip below 9 lakh', \"Finding Sohail Abbas: Hockey's 'Milestone Man' leads a quiet life\", 'Sensex surges 327 points after RBI policy outcome; Nifty settles at 11,914', 'Piyush Goyal gets additional charge of food ministry', 'Union minister Ram Vilas Paswan passes away', 'Covid-19 vaccine delivery: Centre to map cold chain storage facilities', 'Republic TV, two others paid to manipulate TRPs: Mumbai Police', 'Lalu gets bail in a fodder scam case, but to remain in jail', 'Rare pictures of late Union minister Ram Vilas Paswan', 'CDC expands Covid risk warning to include overweight people', 'Rashid Khan always delivers in pressure situations, says Warner', 'French Open: Pain and gain for Novak Djokovic', \"Biden terms Trump's remarks about Harris 'despicable'\", \"Bairstow, Khan star in Sunrisers' 69-run win over Kings XI\", 'Covid positivity rates of 22 states below national average', 'Plot to kidnap Michigan guv thwarted, militia members arrested', 'TCS beats Accenture as most valued IT company', 'No dope testing in IPL as NADA officers await approval to fly out', 'India-US two-plus-two dialogue expected in Delhi on Oct 26-27', 'Trump willing to debate Joe Biden if events are postponed', \"Void in our nation: PM Modi on Ram Vilas Paswan's demise\", 'Modi govt wants Yale, Oxford to be able to open campuses in India', '7 Indians kidnapped in Libya; govt in touch with Libyan authorities', \"Have trusted Rohit bhai's suggestions blindly: Suryakumar\", 'IMD to launch a dynamic impact-based cyclone warning system', 'PM Modi virtually addresses Invest India Conference in Canada', 'Coastal Road Project: SC clarifies there can be no reclamation', 'American poet Louise Glück wins 2020 Nobel Prize in literature', 'Lavalin case: Come with very strong grounds to shake court findings, SC to CBI', 'Bengaluru ISIS module: NIA arrests two for radicalising youth', 'Trump says he will not do a virtual debate', 'Indian origin couple, son found dead in UK flat']\n"
     ]
    }
   ],
   "source": [
    "print(x)"
   ]
  },
  {
   "cell_type": "code",
   "execution_count": 261,
   "metadata": {},
   "outputs": [
    {
     "name": "stdout",
     "output_type": "stream",
     "text": [
      "[[1.0147691e-04]\n",
      " [2.4723828e-02]\n",
      " [4.0125340e-02]\n",
      " [1.5512109e-04]\n",
      " [7.1674585e-04]\n",
      " [9.3816316e-01]\n",
      " [1.7944306e-02]\n",
      " [3.7702918e-04]\n",
      " [1.3949811e-02]\n",
      " [4.0559769e-03]\n",
      " [7.0701718e-02]\n",
      " [6.8008900e-05]\n",
      " [8.0302203e-01]\n",
      " [7.4565411e-05]\n",
      " [7.6279044e-04]\n",
      " [1.0719895e-04]\n",
      " [1.2657046e-04]\n",
      " [3.1351209e-02]\n",
      " [1.0740757e-04]\n",
      " [6.9767237e-05]\n",
      " [8.8721514e-05]\n",
      " [1.8280745e-03]\n",
      " [2.9269266e-01]\n",
      " [8.2552433e-05]\n",
      " [3.5235286e-04]\n",
      " [5.1462686e-01]\n",
      " [9.3963742e-04]\n",
      " [1.0679945e-01]\n",
      " [1.1029363e-02]\n",
      " [8.0227852e-05]\n",
      " [9.9687773e-01]\n",
      " [3.0505657e-04]\n",
      " [5.2204728e-03]\n",
      " [7.0082247e-03]\n",
      " [2.1660626e-03]\n",
      " [8.0364943e-04]\n",
      " [7.8111887e-05]\n",
      " [6.3689530e-01]\n",
      " [2.9626489e-04]\n",
      " [6.7991018e-04]\n",
      " [8.5367441e-02]\n",
      " [1.0276318e-02]\n",
      " [9.4771385e-05]\n",
      " [8.0883503e-05]\n",
      " [1.3270974e-04]\n",
      " [1.3378263e-04]\n",
      " [1.1831522e-04]\n",
      " [8.1717968e-05]\n",
      " [8.7567136e-02]\n",
      " [1.7005115e-04]]\n"
     ]
    }
   ],
   "source": [
    "x = process_texts_sequence(x)\n",
    "p = model.predict(x)\n",
    "print(p)#output of sigmoid functions, intrepreted as probabilities"
   ]
  },
  {
   "cell_type": "code",
   "execution_count": 262,
   "metadata": {},
   "outputs": [
    {
     "name": "stdout",
     "output_type": "stream",
     "text": [
      "[0. 0. 0. 0. 0. 1. 0. 0. 0. 0. 0. 0. 1. 0. 0. 0. 0. 0. 0. 0. 0. 0. 0. 0.\n",
      " 0. 1. 0. 0. 0. 0. 1. 0. 0. 0. 0. 0. 0. 1. 0. 0. 0. 0. 0. 0. 0. 0. 0. 0.\n",
      " 0. 0.]\n"
     ]
    }
   ],
   "source": [
    "y = np.round(p).flatten()\n",
    "print(y)#printing the classes"
   ]
  },
  {
   "cell_type": "code",
   "execution_count": 263,
   "metadata": {},
   "outputs": [
    {
     "name": "stdout",
     "output_type": "stream",
     "text": [
      "Number of positive news = 45\n",
      "Number of negative news = 5\n",
      "Percentage of positive news = 90.0\n",
      "Percentage of negative news = 10.0\n"
     ]
    }
   ],
   "source": [
    "classify(y)"
   ]
  },
  {
   "cell_type": "markdown",
   "metadata": {},
   "source": [
    "<h4>India Today"
   ]
  },
  {
   "cell_type": "code",
   "execution_count": 264,
   "metadata": {},
   "outputs": [],
   "source": [
    "source = requests.get('https://www.indiatoday.in/').text\n",
    "soup = BeautifulSoup(source,'lxml')"
   ]
  },
  {
   "cell_type": "code",
   "execution_count": 265,
   "metadata": {},
   "outputs": [],
   "source": [
    "match = soup.find('ul',class_='itg-listing')\n",
    "x = []\n",
    "for i in match.find_all('li'):\n",
    "    try:\n",
    "        x.append(i.a['title'])\n",
    "    except:\n",
    "        pass"
   ]
  },
  {
   "cell_type": "code",
   "execution_count": 266,
   "metadata": {},
   "outputs": [
    {
     "data": {
      "text/plain": [
       "['#OperationHathras: Thats how police responded to her wails',\n",
       " 'TRP Scam Live Updates: Republic TV CFO summoned by Mumbai Police tomorrow',\n",
       " 'Extracting water from air? Is PM Modi wrong on wind turbine technology? ',\n",
       " 'India gets new set of Swiss bank account details in fight against black money',\n",
       " 'This isnt done: Harbhajan fumes over video of Bengal cops disrespecting Sikh mans turban',\n",
       " 'Khaali Peeli: ZeePlex’s latest is a highly entertaining roller coaster ride',\n",
       " 'TRP scam: 4 accused including Fakt Marathi, Box Cinema owners sent to police custody',\n",
       " 'Sanjjanaa and Raginis judicial custody extended till October 23',\n",
       " 'Human microevolution resulting in babies being born without wisdom teeth: Study',\n",
       " 'Watch: Woman beats up elderly mother-in-law as child records brutal assault in Hyderabad',\n",
       " 'Pak bans TikTok after receiving complaints against immoral, indecent content',\n",
       " 'Watch: Eve-teasers break victims limbs, cops file FIR against her in Gujarat’s Banaskantha',\n",
       " '8 disgusting viral dishes worse than 2020',\n",
       " 'TRP Scam: All about Fakt Marathi and Box Cinema named in ratings fraud',\n",
       " 'Coronavirus LIVE Updates: 10,918 new Covid-19 cases in Karnataka today',\n",
       " 'Covid Tracker: State-wise data, daily trends, patients cured, deaths and more']"
      ]
     },
     "execution_count": 266,
     "metadata": {},
     "output_type": "execute_result"
    }
   ],
   "source": [
    "x"
   ]
  },
  {
   "cell_type": "code",
   "execution_count": 267,
   "metadata": {},
   "outputs": [
    {
     "name": "stdout",
     "output_type": "stream",
     "text": [
      "[[3.8473195e-01]\n",
      " [9.2864037e-05]\n",
      " [6.5952539e-05]\n",
      " [1.3446808e-04]\n",
      " [9.9593544e-01]\n",
      " [5.9503943e-02]\n",
      " [5.9667230e-04]\n",
      " [9.5018744e-04]\n",
      " [6.4134598e-05]\n",
      " [2.6127696e-04]\n",
      " [5.6847334e-03]\n",
      " [3.4688711e-03]\n",
      " [2.1880323e-01]\n",
      " [9.6291304e-05]\n",
      " [6.9916248e-05]\n",
      " [1.0639429e-04]]\n"
     ]
    }
   ],
   "source": [
    "x = process_texts_sequence(x)\n",
    "p = model.predict(x)\n",
    "print(p)#output of sigmoid functions, intrepreted as probabilitiesx"
   ]
  },
  {
   "cell_type": "code",
   "execution_count": 268,
   "metadata": {},
   "outputs": [
    {
     "name": "stdout",
     "output_type": "stream",
     "text": [
      "[0. 0. 0. 0. 1. 0. 0. 0. 0. 0. 0. 0. 0. 0. 0. 0.]\n"
     ]
    }
   ],
   "source": [
    "y = np.round(p).flatten()\n",
    "print(y)#printing the classes"
   ]
  },
  {
   "cell_type": "code",
   "execution_count": 269,
   "metadata": {},
   "outputs": [
    {
     "name": "stdout",
     "output_type": "stream",
     "text": [
      "Number of positive news = 15\n",
      "Number of negative news = 1\n",
      "Percentage of positive news = 93.75\n",
      "Percentage of negative news = 6.25\n"
     ]
    }
   ],
   "source": [
    "classify(y)"
   ]
  }
 ],
 "metadata": {
  "kernelspec": {
   "display_name": "Python 3",
   "language": "python",
   "name": "python3"
  },
  "language_info": {
   "codemirror_mode": {
    "name": "ipython",
    "version": 3
   },
   "file_extension": ".py",
   "mimetype": "text/x-python",
   "name": "python",
   "nbconvert_exporter": "python",
   "pygments_lexer": "ipython3",
   "version": "3.7.3"
  }
 },
 "nbformat": 4,
 "nbformat_minor": 2
}
